{
 "cells": [
  {
   "cell_type": "code",
   "execution_count": 30,
   "metadata": {},
   "outputs": [
    {
     "name": "stdout",
     "output_type": "stream",
     "text": [
      "The autoreload extension is already loaded. To reload it, use:\n",
      "  %reload_ext autoreload\n"
     ]
    }
   ],
   "source": [
    "%load_ext autoreload\n",
    "%autoreload 2\n",
    "import sys\n",
    "sys.path.append('..')\n",
    "from utils.loading import load_table\n",
    "\n",
    "import pandas as pd"
   ]
  },
  {
   "cell_type": "code",
   "execution_count": 57,
   "metadata": {},
   "outputs": [
    {
     "name": "stdout",
     "output_type": "stream",
     "text": [
      "DeidentID                     int64\n",
      "RecID                         int64\n",
      "LocalDtTm            datetime64[ns]\n",
      "CGM                           int64\n",
      "LocalDtTmAdjusted    datetime64[ns]\n",
      "dtype: object\n"
     ]
    },
    {
     "data": {
      "text/html": [
       "<div>\n",
       "<style scoped>\n",
       "    .dataframe tbody tr th:only-of-type {\n",
       "        vertical-align: middle;\n",
       "    }\n",
       "\n",
       "    .dataframe tbody tr th {\n",
       "        vertical-align: top;\n",
       "    }\n",
       "\n",
       "    .dataframe thead th {\n",
       "        text-align: right;\n",
       "    }\n",
       "</style>\n",
       "<table border=\"1\" class=\"dataframe\">\n",
       "  <thead>\n",
       "    <tr style=\"text-align: right;\">\n",
       "      <th></th>\n",
       "      <th>DeidentID</th>\n",
       "      <th>RecID</th>\n",
       "      <th>LocalDtTm</th>\n",
       "      <th>CGM</th>\n",
       "      <th>LocalDtTmAdjusted</th>\n",
       "    </tr>\n",
       "  </thead>\n",
       "  <tbody>\n",
       "    <tr>\n",
       "      <th>0</th>\n",
       "      <td>2</td>\n",
       "      <td>61300</td>\n",
       "      <td>2013-12-17 11:06:33</td>\n",
       "      <td>93</td>\n",
       "      <td>NaT</td>\n",
       "    </tr>\n",
       "    <tr>\n",
       "      <th>1</th>\n",
       "      <td>2</td>\n",
       "      <td>61301</td>\n",
       "      <td>2013-12-17 11:01:33</td>\n",
       "      <td>93</td>\n",
       "      <td>NaT</td>\n",
       "    </tr>\n",
       "  </tbody>\n",
       "</table>\n",
       "</div>"
      ],
      "text/plain": [
       "   DeidentID  RecID           LocalDtTm  CGM LocalDtTmAdjusted\n",
       "0          2  61300 2013-12-17 11:06:33   93               NaT\n",
       "1          2  61301 2013-12-17 11:01:33   93               NaT"
      ]
     },
     "execution_count": 57,
     "metadata": {},
     "output_type": "execute_result"
    }
   ],
   "source": [
    "x = load_table('MonitorCGM', date_cols=['LocalDtTm', 'LocalDtTmAdjusted'])\n",
    "print(x.dtypes)\n",
    "x.head(2)\n"
   ]
  },
  {
   "cell_type": "code",
   "execution_count": 58,
   "metadata": {},
   "outputs": [
    {
     "name": "stdout",
     "output_type": "stream",
     "text": [
      "ParentLoginVisitID    int64\n",
      "DeidentID             int64\n",
      "RecID                 int64\n",
      "DexComSuccess         int64\n",
      "ScreeningSuccess      int64\n",
      "PreExistMedCond        bool\n",
      "ConComMed              bool\n",
      "SevHypo                bool\n",
      "SevHyper               bool\n",
      "AdverseEvent           bool\n",
      "dtype: object\n"
     ]
    },
    {
     "data": {
      "text/html": [
       "<div>\n",
       "<style scoped>\n",
       "    .dataframe tbody tr th:only-of-type {\n",
       "        vertical-align: middle;\n",
       "    }\n",
       "\n",
       "    .dataframe tbody tr th {\n",
       "        vertical-align: top;\n",
       "    }\n",
       "\n",
       "    .dataframe thead th {\n",
       "        text-align: right;\n",
       "    }\n",
       "</style>\n",
       "<table border=\"1\" class=\"dataframe\">\n",
       "  <thead>\n",
       "    <tr style=\"text-align: right;\">\n",
       "      <th></th>\n",
       "      <th>ParentLoginVisitID</th>\n",
       "      <th>DeidentID</th>\n",
       "      <th>RecID</th>\n",
       "      <th>DexComSuccess</th>\n",
       "      <th>ScreeningSuccess</th>\n",
       "      <th>PreExistMedCond</th>\n",
       "      <th>ConComMed</th>\n",
       "      <th>SevHypo</th>\n",
       "      <th>SevHyper</th>\n",
       "      <th>AdverseEvent</th>\n",
       "    </tr>\n",
       "  </thead>\n",
       "  <tbody>\n",
       "    <tr>\n",
       "      <th>0</th>\n",
       "      <td>459</td>\n",
       "      <td>1</td>\n",
       "      <td>3</td>\n",
       "      <td>1</td>\n",
       "      <td>1</td>\n",
       "      <td>False</td>\n",
       "      <td>False</td>\n",
       "      <td>False</td>\n",
       "      <td>False</td>\n",
       "      <td>False</td>\n",
       "    </tr>\n",
       "    <tr>\n",
       "      <th>1</th>\n",
       "      <td>444</td>\n",
       "      <td>2</td>\n",
       "      <td>1</td>\n",
       "      <td>1</td>\n",
       "      <td>1</td>\n",
       "      <td>False</td>\n",
       "      <td>False</td>\n",
       "      <td>False</td>\n",
       "      <td>False</td>\n",
       "      <td>False</td>\n",
       "    </tr>\n",
       "  </tbody>\n",
       "</table>\n",
       "</div>"
      ],
      "text/plain": [
       "   ParentLoginVisitID  DeidentID  RecID  DexComSuccess  ScreeningSuccess   \n",
       "0                 459          1      3              1                 1  \\\n",
       "1                 444          2      1              1                 1   \n",
       "\n",
       "   PreExistMedCond  ConComMed  SevHypo  SevHyper  AdverseEvent  \n",
       "0            False      False    False     False         False  \n",
       "1            False      False    False     False         False  "
      ]
     },
     "execution_count": 58,
     "metadata": {},
     "output_type": "execute_result"
    }
   ],
   "source": [
    "x = load_table('CGMRunInEnd')\n",
    "print(x.dtypes)\n",
    "x.head(2)\n"
   ]
  }
 ],
 "metadata": {
  "kernelspec": {
   "display_name": "cs230",
   "language": "python",
   "name": "python3"
  },
  "language_info": {
   "codemirror_mode": {
    "name": "ipython",
    "version": 3
   },
   "file_extension": ".py",
   "mimetype": "text/x-python",
   "name": "python",
   "nbconvert_exporter": "python",
   "pygments_lexer": "ipython3",
   "version": "3.10.10"
  },
  "orig_nbformat": 4
 },
 "nbformat": 4,
 "nbformat_minor": 2
}
