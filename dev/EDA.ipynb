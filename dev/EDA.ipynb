{
 "cells": [
  {
   "cell_type": "markdown",
   "metadata": {},
   "source": [
    "## Imports"
   ]
  },
  {
   "cell_type": "code",
   "execution_count": 1,
   "metadata": {},
   "outputs": [],
   "source": [
    "import sys\n",
    "from utils.loading import load_table\n",
    "import matplotlib.pyplot as plt\n",
    "import pandas as pd\n",
    "import plotly.express as px"
   ]
  },
  {
   "cell_type": "markdown",
   "metadata": {},
   "source": [
    "## Load data"
   ]
  },
  {
   "cell_type": "code",
   "execution_count": 2,
   "metadata": {},
   "outputs": [],
   "source": [
    "# Dictionary of 'table_name' -> []'patient', 'datetime']\n",
    "tables = {\n",
    "    'Meter': ['DeidentID', 'DataDtTm'],\n",
    "    'CGM': ['DeidentID', 'DisplayTime'],\n",
    "    'CGMCal': ['DeidentID', 'DisplayTime'],\n",
    "    'Ketone': ['DeidentID', 'DataDtTm'],\n",
    "    'MonitorBasalBolus': ['DeidentID', 'LocalDeliveredDtTm'],\n",
    "    'MonitorCGM': ['DeidentID', 'LocalDtTmAdjusted'],\n",
    "    'MonitorCorrectionBolus': ['DeidentID', 'LocalDeliveredDtTm'],\n",
    "    'MonitorMeal': ['DeidentID', 'LocalDtTm'],\n",
    "    'MonitorMealBolus': ['DeidentID', 'LocalDeliveredDtTm'],\n",
    "    'MonitorSMBG': ['DeidentID','LocalDtTm'],\n",
    "    'MonitorSystem': ['DeidentID','LocalDtTm'],\n",
    "    'MonitorTotalBolus': ['DeidentID', 'LocalDeliveredDtTm'],\n",
    "    'Pump': ['DeidentID', 'DataDtTm'],\n",
    "}\n",
    "\n",
    "GROUP_DATES = True"
   ]
  },
  {
   "cell_type": "markdown",
   "metadata": {},
   "source": [
    "## CGM"
   ]
  },
  {
   "cell_type": "code",
   "execution_count": 3,
   "metadata": {},
   "outputs": [
    {
     "name": "stdout",
     "output_type": "stream",
     "text": [
      "    DeidentID  RecID           LocalDtTm  MealSize   SMBG\n",
      "149         1    885 2014-01-29 14:02:29        30  205.0\n",
      "150         1    886 2014-01-29 12:29:04        30  110.0\n",
      "151         1    887 2014-01-29 11:39:28        45  141.0\n",
      "152         1    888 2014-01-28 17:57:17        60  236.0\n",
      "153         1    889 2014-01-28 11:29:31        60  212.0\n"
     ]
    },
    {
     "ename": "KeyError",
     "evalue": "'InternalTime'",
     "output_type": "error",
     "traceback": [
      "\u001b[0;31m---------------------------------------------------------------------------\u001b[0m",
      "\u001b[0;31mKeyError\u001b[0m                                  Traceback (most recent call last)",
      "File \u001b[0;32m~/opt/miniconda3/envs/cs230/lib/python3.10/site-packages/pandas/core/indexes/base.py:3652\u001b[0m, in \u001b[0;36mIndex.get_loc\u001b[0;34m(self, key)\u001b[0m\n\u001b[1;32m   3651\u001b[0m \u001b[38;5;28;01mtry\u001b[39;00m:\n\u001b[0;32m-> 3652\u001b[0m     \u001b[38;5;28;01mreturn\u001b[39;00m \u001b[38;5;28;43mself\u001b[39;49m\u001b[38;5;241;43m.\u001b[39;49m\u001b[43m_engine\u001b[49m\u001b[38;5;241;43m.\u001b[39;49m\u001b[43mget_loc\u001b[49m\u001b[43m(\u001b[49m\u001b[43mcasted_key\u001b[49m\u001b[43m)\u001b[49m\n\u001b[1;32m   3653\u001b[0m \u001b[38;5;28;01mexcept\u001b[39;00m \u001b[38;5;167;01mKeyError\u001b[39;00m \u001b[38;5;28;01mas\u001b[39;00m err:\n",
      "File \u001b[0;32m~/opt/miniconda3/envs/cs230/lib/python3.10/site-packages/pandas/_libs/index.pyx:147\u001b[0m, in \u001b[0;36mpandas._libs.index.IndexEngine.get_loc\u001b[0;34m()\u001b[0m\n",
      "File \u001b[0;32m~/opt/miniconda3/envs/cs230/lib/python3.10/site-packages/pandas/_libs/index.pyx:176\u001b[0m, in \u001b[0;36mpandas._libs.index.IndexEngine.get_loc\u001b[0;34m()\u001b[0m\n",
      "File \u001b[0;32mpandas/_libs/hashtable_class_helper.pxi:7080\u001b[0m, in \u001b[0;36mpandas._libs.hashtable.PyObjectHashTable.get_item\u001b[0;34m()\u001b[0m\n",
      "File \u001b[0;32mpandas/_libs/hashtable_class_helper.pxi:7088\u001b[0m, in \u001b[0;36mpandas._libs.hashtable.PyObjectHashTable.get_item\u001b[0;34m()\u001b[0m\n",
      "\u001b[0;31mKeyError\u001b[0m: 'InternalTime'",
      "\nThe above exception was the direct cause of the following exception:\n",
      "\u001b[0;31mKeyError\u001b[0m                                  Traceback (most recent call last)",
      "Cell \u001b[0;32mIn[3], line 8\u001b[0m\n\u001b[1;32m      6\u001b[0m \u001b[38;5;28mprint\u001b[39m(df\u001b[38;5;241m.\u001b[39mhead())\n\u001b[1;32m      7\u001b[0m \u001b[38;5;66;03m# Convert the 'InternalTime' column to a datetime object\u001b[39;00m\n\u001b[0;32m----> 8\u001b[0m df[\u001b[38;5;124m'\u001b[39m\u001b[38;5;124mInternalTime\u001b[39m\u001b[38;5;124m'\u001b[39m] \u001b[38;5;241m=\u001b[39m pd\u001b[38;5;241m.\u001b[39mto_datetime(\u001b[43mdf\u001b[49m\u001b[43m[\u001b[49m\u001b[38;5;124;43m'\u001b[39;49m\u001b[38;5;124;43mInternalTime\u001b[39;49m\u001b[38;5;124;43m'\u001b[39;49m\u001b[43m]\u001b[49m)\n\u001b[1;32m     10\u001b[0m \u001b[38;5;66;03m# sort by 'InternalTime'\u001b[39;00m\n\u001b[1;32m     11\u001b[0m df \u001b[38;5;241m=\u001b[39m df\u001b[38;5;241m.\u001b[39msort_values(by\u001b[38;5;241m=\u001b[39m\u001b[38;5;124m'\u001b[39m\u001b[38;5;124mInternalTime\u001b[39m\u001b[38;5;124m'\u001b[39m)\n",
      "File \u001b[0;32m~/opt/miniconda3/envs/cs230/lib/python3.10/site-packages/pandas/core/frame.py:3760\u001b[0m, in \u001b[0;36mDataFrame.__getitem__\u001b[0;34m(self, key)\u001b[0m\n\u001b[1;32m   3758\u001b[0m \u001b[38;5;28;01mif\u001b[39;00m \u001b[38;5;28mself\u001b[39m\u001b[38;5;241m.\u001b[39mcolumns\u001b[38;5;241m.\u001b[39mnlevels \u001b[38;5;241m>\u001b[39m \u001b[38;5;241m1\u001b[39m:\n\u001b[1;32m   3759\u001b[0m     \u001b[38;5;28;01mreturn\u001b[39;00m \u001b[38;5;28mself\u001b[39m\u001b[38;5;241m.\u001b[39m_getitem_multilevel(key)\n\u001b[0;32m-> 3760\u001b[0m indexer \u001b[38;5;241m=\u001b[39m \u001b[38;5;28;43mself\u001b[39;49m\u001b[38;5;241;43m.\u001b[39;49m\u001b[43mcolumns\u001b[49m\u001b[38;5;241;43m.\u001b[39;49m\u001b[43mget_loc\u001b[49m\u001b[43m(\u001b[49m\u001b[43mkey\u001b[49m\u001b[43m)\u001b[49m\n\u001b[1;32m   3761\u001b[0m \u001b[38;5;28;01mif\u001b[39;00m is_integer(indexer):\n\u001b[1;32m   3762\u001b[0m     indexer \u001b[38;5;241m=\u001b[39m [indexer]\n",
      "File \u001b[0;32m~/opt/miniconda3/envs/cs230/lib/python3.10/site-packages/pandas/core/indexes/base.py:3654\u001b[0m, in \u001b[0;36mIndex.get_loc\u001b[0;34m(self, key)\u001b[0m\n\u001b[1;32m   3652\u001b[0m     \u001b[38;5;28;01mreturn\u001b[39;00m \u001b[38;5;28mself\u001b[39m\u001b[38;5;241m.\u001b[39m_engine\u001b[38;5;241m.\u001b[39mget_loc(casted_key)\n\u001b[1;32m   3653\u001b[0m \u001b[38;5;28;01mexcept\u001b[39;00m \u001b[38;5;167;01mKeyError\u001b[39;00m \u001b[38;5;28;01mas\u001b[39;00m err:\n\u001b[0;32m-> 3654\u001b[0m     \u001b[38;5;28;01mraise\u001b[39;00m \u001b[38;5;167;01mKeyError\u001b[39;00m(key) \u001b[38;5;28;01mfrom\u001b[39;00m \u001b[38;5;21;01merr\u001b[39;00m\n\u001b[1;32m   3655\u001b[0m \u001b[38;5;28;01mexcept\u001b[39;00m \u001b[38;5;167;01mTypeError\u001b[39;00m:\n\u001b[1;32m   3656\u001b[0m     \u001b[38;5;66;03m# If we have a listlike key, _check_indexing_error will raise\u001b[39;00m\n\u001b[1;32m   3657\u001b[0m     \u001b[38;5;66;03m#  InvalidIndexError. Otherwise we fall through and re-raise\u001b[39;00m\n\u001b[1;32m   3658\u001b[0m     \u001b[38;5;66;03m#  the TypeError.\u001b[39;00m\n\u001b[1;32m   3659\u001b[0m     \u001b[38;5;28mself\u001b[39m\u001b[38;5;241m.\u001b[39m_check_indexing_error(key)\n",
      "\u001b[0;31mKeyError\u001b[0m: 'InternalTime'"
     ]
    }
   ],
   "source": [
    "df = load_table(filename='MonitorMeal', date_cols=tables['MonitorMeal'])\n",
    "\n",
    "# Filter by patient\n",
    "df = df[df['DeidentID'] == '1']\n",
    "\n",
    "print(df.head())\n",
    "# Convert the 'InternalTime' column to a datetime object\n",
    "df['InternalTime'] = pd.to_datetime(df['InternalTime'])\n",
    "\n",
    "# sort by 'InternalTime'\n",
    "df = df.sort_values(by='InternalTime')\n",
    "\n",
    "# Create a plot\n",
    "fig, ax = plt.subplots()\n",
    "ax.plot(df['InternalTime'], df['CGM'])\n",
    "\n",
    "# Set the x-axis label\n",
    "ax.set_xlabel('InternalTime')\n",
    "\n",
    "# Set the y-axis label\n",
    "ax.set_ylabel('CGM')\n",
    "\n",
    "# Set the title of the plot\n",
    "ax.set_title('CGM vs InternalTime')\n",
    "\n",
    "# Show the plot\n",
    "plt.show()"
   ]
  },
  {
   "cell_type": "markdown",
   "metadata": {},
   "source": [
    "## Ketone"
   ]
  },
  {
   "cell_type": "code",
   "execution_count": 1,
   "metadata": {},
   "outputs": [
    {
     "ename": "NameError",
     "evalue": "name 'load_table' is not defined",
     "output_type": "error",
     "traceback": [
      "\u001b[1;31m---------------------------------------------------------------------------\u001b[0m",
      "\u001b[1;31mNameError\u001b[0m                                 Traceback (most recent call last)",
      "Cell \u001b[1;32mIn[1], line 1\u001b[0m\n\u001b[1;32m----> 1\u001b[0m df \u001b[38;5;241m=\u001b[39m \u001b[43mload_table\u001b[49m(filename\u001b[38;5;241m=\u001b[39m\u001b[38;5;124m'\u001b[39m\u001b[38;5;124mKetone\u001b[39m\u001b[38;5;124m'\u001b[39m, date_cols\u001b[38;5;241m=\u001b[39mtables[\u001b[38;5;124m'\u001b[39m\u001b[38;5;124mKetone\u001b[39m\u001b[38;5;124m'\u001b[39m])\n\u001b[0;32m      2\u001b[0m \u001b[38;5;66;03m# Filter by patient\u001b[39;00m\n\u001b[0;32m      3\u001b[0m df \u001b[38;5;241m=\u001b[39m df[df[\u001b[38;5;124m'\u001b[39m\u001b[38;5;124mDeidentID\u001b[39m\u001b[38;5;124m'\u001b[39m] \u001b[38;5;241m==\u001b[39m \u001b[38;5;124m'\u001b[39m\u001b[38;5;124m1\u001b[39m\u001b[38;5;124m'\u001b[39m]\n",
      "\u001b[1;31mNameError\u001b[0m: name 'load_table' is not defined"
     ]
    }
   ],
   "source": [
    "df = load_table(filename='Ketone', date_cols=tables['Ketone'])\n",
    "# Filter by patient\n",
    "df = df[df['DeidentID'] == '1']\n",
    "print(df.head())\n",
    "df['DataDtTm'] = pd.to_datetime(df['DataDtTm'])\n",
    "\n",
    "#remove QC values\n",
    "df = df[df['IsQCtest'] == False]\n",
    "# sort by 'InternalTime'\n",
    "df = df.sort_values(by='DataDtTm')\n",
    "\n",
    "# Create a plot\n",
    "fig, ax = plt.subplots()\n",
    "ax.plot(df['DataDtTm'], df['Ketone'])\n",
    "\n",
    "# Set the x-axis label\n",
    "ax.set_xlabel('DataDtTm')\n",
    "\n",
    "# Set the y-axis label\n",
    "ax.set_ylabel('Ketone')\n",
    "\n",
    "# Set the title of the plot\n",
    "ax.set_title('Ketone vs DataDtTm')\n",
    "\n",
    "# Show the plot\n",
    "plt.show()"
   ]
  },
  {
   "cell_type": "markdown",
   "metadata": {},
   "source": [
    "## MonitorMeal"
   ]
  },
  {
   "cell_type": "code",
   "execution_count": null,
   "metadata": {},
   "outputs": [],
   "source": [
    "df = load_table(filename='MonitorMeal', date_cols=tables['MonitorMeal'])\n",
    "# Filter by patient\n",
    "df = df[df['DeidentID'] == '1']\n",
    "print(df.head())\n",
    "df['LocalDtTm'] = pd.to_datetime(df['LocalDtTm'])\n",
    "\n",
    "# sort by 'InternalTime'\n",
    "df = df.sort_values(by='LocalDtTm')\n",
    "\n",
    "# Create a plot\n",
    "fig, ax = plt.subplots()\n",
    "ax.plot(df['LocalDtTm'], df['MealSize'])\n",
    "\n",
    "# Set the x-axis label\n",
    "ax.set_xlabel('LocalDtTm')\n",
    "\n",
    "# Set the y-axis label\n",
    "ax.set_ylabel('Mealsize')\n",
    "\n",
    "# Set the title of the plot\n",
    "ax.set_title('MealSize vs LocalDtTm')\n",
    "\n",
    "# Show the plot\n",
    "plt.show()"
   ]
  },
  {
   "cell_type": "code",
   "execution_count": null,
   "metadata": {},
   "outputs": [],
   "source": []
  }
 ],
 "metadata": {
  "kernelspec": {
   "display_name": "Python 3 (ipykernel)",
   "language": "python",
   "name": "python3"
  },
  "language_info": {
   "codemirror_mode": {
    "name": "ipython",
    "version": 3
   },
   "file_extension": ".py",
   "mimetype": "text/x-python",
   "name": "python",
   "nbconvert_exporter": "python",
   "pygments_lexer": "ipython3",
   "version": "3.10.9"
  }
 },
 "nbformat": 4,
 "nbformat_minor": 1
}
